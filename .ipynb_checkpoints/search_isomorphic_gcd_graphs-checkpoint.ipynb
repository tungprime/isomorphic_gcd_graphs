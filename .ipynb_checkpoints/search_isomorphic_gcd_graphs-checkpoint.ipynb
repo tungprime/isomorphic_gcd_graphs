{
 "cells": [
  {
   "cell_type": "code",
   "execution_count": 15,
   "id": "1b2bb47c-acb2-4263-8ab7-ec01797da0d6",
   "metadata": {},
   "outputs": [],
   "source": [
    "import networkx as nx\n",
    "import matplotlib.pyplot as plt\n",
    "from itertools import chain, combinations\n",
    "\n",
    "from collections import defaultdict\n",
    "def powerset(s):\n",
    "    x = len(s)\n",
    "    masks = [1 << i for i in range(x)]\n",
    "    result = []\n",
    "    for i in range(1 << x):\n",
    "        result.append([ss for mask, ss in zip(masks, s) if i & mask])\n",
    "    return result"
   ]
  },
  {
   "cell_type": "code",
   "execution_count": 16,
   "id": "c8eb5134-d816-4175-b91f-25934160d509",
   "metadata": {},
   "outputs": [],
   "source": [
    "def unitary_cayley(f, R):\n",
    "    \"\"\"\n",
    "    This function return the unitary Cayley graph on F_q[x]/f\n",
    "    \"\"\"\n",
    "    \n",
    "    n = f.degree()-1\n",
    "    vertice = elements_quotient_ring = list(R.polynomials(max_degree=n))\n",
    "    n = len(vertice)\n",
    "    g=nx.empty_graph(n)\n",
    "    for i in range(0,n):\n",
    "        for j in range(0,n):\n",
    "            if gcd(vertice[i]-vertice[j],f) ==1:\n",
    "                g.add_edge(i,j)\n",
    "    return g  \n",
    "\n",
    "def gcd_cayley(f, R, D):\n",
    "    \"\"\"\n",
    "    return the gcd graph G_f(D)\n",
    "    \"\"\"\n",
    "    n = f.degree()-1\n",
    "    vertice = elements_quotient_ring = list(R.polynomials(max_degree=n))\n",
    "    n = len(vertice)\n",
    "    g=nx.empty_graph(n)\n",
    "    for i in range(0,n):\n",
    "        for j in range(0,n):\n",
    "            if (gcd(vertice[i]-vertice[j],f) in D) or (gcd(vertice[j]-vertice[i],f) in D):\n",
    "                g.add_edge(i,j)\n",
    "    return g \n",
    "\n",
    "def abstract_gcd_cayley(f, R, D):\n",
    "    n = f.degree()-1\n",
    "    vertice = elements_quotient_ring = list(R.polynomials(max_degree=n))\n",
    "    n = len(vertice)\n",
    "    g=nx.empty_graph(vertice)\n",
    "    for i in vertice:\n",
    "        for j in vertice:\n",
    "            if gcd(i-j,f) in D:\n",
    "                g.add_edge(i,j)\n",
    "    return g \n",
    "\n",
    "def induced_graph(g,v):\n",
    "    n = len(v)\n",
    "    induced_g=nx.empty_graph(n)\n",
    "    for i in range(n):\n",
    "        for j in range(n):\n",
    "            if v[j] in g.neighbors(v[i]):\n",
    "                induced_g.add_edge(i,j)\n",
    "    return induced_g \n",
    "\n",
    "def new_gcd(f,g):\n",
    "    if f % g ==0:\n",
    "        return 0\n",
    "    else:\n",
    "        return gcd(f,g)\n",
    "    \n",
    "def raw_char_poly(g):\n",
    "    adj_matrix = nx.adjacency_matrix(g).todense()\n",
    "    matrix_size = g.number_of_nodes()\n",
    "    matrix = adj_matrix\n",
    "    f = MatrixSpace(IntegerRing(),matrix_size)(matrix).charpoly()\n",
    "    return f\n",
    "    \n",
    "    \n",
    "def char_poly_gcd_graph(g):\n",
    "    adj_matrix = nx.adjacency_matrix(g).todense()\n",
    "    matrix_size = g.number_of_nodes()\n",
    "    matrix = adj_matrix\n",
    "    f = MatrixSpace(IntegerRing(),matrix_size)(matrix).charpoly()\n",
    "    return f.factor()\n",
    "\n",
    "def all_divisors(f):\n",
    "    n = f.degree()-1\n",
    "    vertice = elements_quotient_ring = list(R.polynomials(max_degree=n))\n",
    "    result = []\n",
    "    for item in vertice:\n",
    "        if item !=0 and f % item == 0 and item.is_monic():\n",
    "            result.append(item)\n",
    "    return result\n",
    "\n",
    "def all_divisors_new(f):\n",
    "    n = f.degree()\n",
    "    vertice = elements_quotient_ring = list(R.polynomials(max_degree=n))\n",
    "    result = []\n",
    "    for item in vertice:\n",
    "        if item !=0 and f % item == 0 and item.is_monic():\n",
    "            result.append(item)\n",
    "    return result  \n",
    "\n",
    "def radical_polynomial(g):\n",
    "    F = raw_char_poly(g)\n",
    "    factors = F.factor()\n",
    "    result = 1\n",
    "    for factor in factors:\n",
    "        result *= factor[0]\n",
    "    return result    "
   ]
  },
  {
   "cell_type": "markdown",
   "id": "50456848-2f59-46b5-911e-931ca306cb84",
   "metadata": {},
   "source": [
    "# Isospectral classes of gcd-graph with $f=x(x+1) \\in \\mathbb{F}_3[x]$."
   ]
  },
  {
   "cell_type": "code",
   "execution_count": 17,
   "id": "0c0fc0de-16ad-434c-bad7-d373f322154a",
   "metadata": {},
   "outputs": [
    {
     "name": "stdout",
     "output_type": "stream",
     "text": [
      "[[[]], x^9]\n",
      "[[[1], [x, x + 1]], (x - 4) * (x - 1)^4 * (x + 2)^4]\n",
      "[[[x], [x + 1]], (x - 2)^3 * (x + 1)^6]\n",
      "[[[1, x], [1, x + 1]], (x - 6) * (x + 3)^2 * x^6]\n",
      "[[[1, x, x + 1]], (x - 8) * (x + 1)^8]\n"
     ]
    }
   ],
   "source": [
    "F.<a> = GF(3)\n",
    "R.<x> = PolynomialRing(F)\n",
    "f = x*(x+1)\n",
    "list_divisors = all_divisors(f)\n",
    "all_D = powerset(list_divisors)\n",
    "spectra_result =[]\n",
    "seen_spectra = defaultdict(list)\n",
    "for D in all_D:\n",
    "    g = abstract_gcd_cayley(f,R, D)\n",
    "    h = raw_char_poly(g)\n",
    "    seen_spectra[h].append(D)\n",
    "for key, value in seen_spectra.items():\n",
    "    print([value, key.factor()])"
   ]
  },
  {
   "cell_type": "markdown",
   "id": "2856b70c-b4d1-446b-8f3f-47689750bb28",
   "metadata": {},
   "source": [
    "## Check that isospectral implies isomorphic "
   ]
  },
  {
   "cell_type": "code",
   "execution_count": 4,
   "id": "9e61e4fe-0fbe-4c0e-9f06-2bedd03f92f1",
   "metadata": {},
   "outputs": [
    {
     "data": {
      "text/plain": [
       "True"
      ]
     },
     "execution_count": 4,
     "metadata": {},
     "output_type": "execute_result"
    }
   ],
   "source": [
    "F.<a> = GF(3)\n",
    "R.<x> = PolynomialRing(F)\n",
    "f = x*(x+1)\n",
    "D1 = [1]\n",
    "g1 = abstract_gcd_cayley(f,R, D1)\n",
    "D2 = [x, x+1]\n",
    "g2 = abstract_gcd_cayley(f,R, D2)\n",
    "nx.is_isomorphic(g1, g2)"
   ]
  },
  {
   "cell_type": "markdown",
   "id": "e32786ac-fad4-4227-bebe-4f95cc8c26e7",
   "metadata": {},
   "source": [
    "# Isospectral classes of gcd-graph with $f=x^2(x+1) \\in \\mathbb{F}_3[x]$."
   ]
  },
  {
   "cell_type": "code",
   "execution_count": 5,
   "id": "0aaec4f3-130e-4243-a7a2-3ebb021d5bde",
   "metadata": {},
   "outputs": [
    {
     "name": "stdout",
     "output_type": "stream",
     "text": [
      "[[]] x^27\n",
      "[[1], [x, x + 1, x^2]] (x - 12) * (x - 3)^4 * (x + 6)^4 * x^18\n",
      "[[x], [x^2, x * (x + 1)]] (x - 4)^3 * (x - 1)^12 * (x + 2)^12\n",
      "[[1, x]] (x - 16) * (x + 8)^2 * (x + 2)^8 * (x - 1)^16\n",
      "[[x + 1], [x, x^2], [x, x * (x + 1)]] (x - 6)^3 * (x + 3)^6 * x^18\n",
      "[[1, x + 1], [1, x, x^2]] (x - 18) * (x + 9)^2 * x^24\n",
      "[[x, x + 1]] (x - 10) * (x - 4)^2 * (x + 5)^4 * (x + 2)^6 * (x - 1)^14\n",
      "[[1, x, x + 1], [1, x + 1, x^2, x * (x + 1)]] (x - 22) * (x + 5)^2 * (x - 1)^12 * (x + 2)^12\n",
      "[[x^2], [x * (x + 1)]] (x - 2)^9 * (x + 1)^18\n",
      "[[1, x^2]] (x - 14) * (x + 4)^2 * (x + 7)^2 * (x - 2)^10 * (x + 1)^12\n",
      "[[x + 1, x^2]] (x - 8) * (x - 5)^2 * (x + 4)^4 * (x - 2)^6 * (x + 1)^14\n",
      "[[1, x + 1, x^2], [1, x + 1, x * (x + 1)], [1, x, x^2, x * (x + 1)]] (x - 20) * (x + 7)^2 * (x - 2)^6 * (x + 1)^18\n",
      "[[1, x, x + 1, x^2], [1, x, x + 1, x * (x + 1)]] (x - 24) * (x + 3)^8 * x^18\n",
      "[[1, x * (x + 1)], [x, x + 1, x^2, x * (x + 1)]] (x - 14) * (x - 5)^4 * (x + 4)^4 * (x + 1)^18\n",
      "[[1, x, x * (x + 1)]] (x - 18) * (x + 6)^2 * (x - 3)^4 * (x + 3)^6 * x^14\n",
      "[[x + 1, x * (x + 1)], [x, x^2, x * (x + 1)]] (x - 8)^3 * (x + 1)^24\n",
      "[[x, x + 1, x * (x + 1)]] (x - 12) * (x - 6)^2 * (x - 3)^2 * (x + 3)^10 * x^12\n",
      "[[1, x^2, x * (x + 1)]] (x - 16) * (x + 5)^2 * (x - 4)^4 * (x - 1)^6 * (x + 2)^14\n",
      "[[x + 1, x^2, x * (x + 1)]] (x - 10) * (x - 7)^2 * (x - 1)^8 * (x + 2)^16\n",
      "[[1, x, x + 1, x^2, x * (x + 1)]] (x - 26) * (x + 1)^26\n"
     ]
    }
   ],
   "source": [
    "F.<a> = GF(3)\n",
    "R.<x> = PolynomialRing(F)\n",
    "f = x^2*(x+1)\n",
    "list_divisors = all_divisors(f)\n",
    "all_D = powerset(list_divisors)\n",
    "spectra_result =[]\n",
    "seen_spectra = defaultdict(list)\n",
    "for D in all_D:\n",
    "    g = abstract_gcd_cayley(f,R, D)\n",
    "    h = raw_char_poly(g)\n",
    "    seen_spectra[h].append(D)\n",
    "for key, value in seen_spectra.items():\n",
    "    new_value = [] \n",
    "    for v in value: \n",
    "        v = [item.factor() for item in v]\n",
    "        new_value.append(v)\n",
    "    print(new_value, key.factor())"
   ]
  },
  {
   "cell_type": "code",
   "execution_count": 9,
   "id": "7811e366-d352-4f63-bf6a-62cad2b98300",
   "metadata": {},
   "outputs": [
    {
     "data": {
      "text/plain": [
       "True"
      ]
     },
     "execution_count": 9,
     "metadata": {},
     "output_type": "execute_result"
    }
   ],
   "source": [
    "F.<a> = GF(3)\n",
    "R.<x> = PolynomialRing(F)\n",
    "f = x^2*(x+1)\n",
    "D1 = [1, x, x+1]\n",
    "g1 = abstract_gcd_cayley(f,R, D1)\n",
    "D2 = [1, x + 1, x^2, x * (x + 1)]\n",
    "g2 = abstract_gcd_cayley(f,R, D2)\n",
    "nx.is_isomorphic(g1, g2)"
   ]
  },
  {
   "cell_type": "markdown",
   "id": "e5c759a4-d156-4994-a6ab-0c8c70b91f05",
   "metadata": {},
   "source": [
    "### Check that the previous isomorphism does not hold for $\\mathbb{F}_5[x]$"
   ]
  },
  {
   "cell_type": "code",
   "execution_count": 10,
   "id": "97d87ddc-ebac-48a2-9992-c901b26ee753",
   "metadata": {},
   "outputs": [
    {
     "data": {
      "text/plain": [
       "False"
      ]
     },
     "execution_count": 10,
     "metadata": {},
     "output_type": "execute_result"
    }
   ],
   "source": [
    "F.<a> = GF(5)\n",
    "R.<x> = PolynomialRing(F)\n",
    "f = x^2*(x+1)\n",
    "D1 = [1, x, x+1]\n",
    "g1 = abstract_gcd_cayley(f,R, D1)\n",
    "D2 = [1, x + 1, x^2, x * (x + 1)]\n",
    "g2 = abstract_gcd_cayley(f,R, D2)\n",
    "nx.is_isomorphic(g1, g2)"
   ]
  },
  {
   "cell_type": "markdown",
   "id": "53ca9ce1-8e2f-4926-8def-dccd37ceedff",
   "metadata": {},
   "source": [
    "## On the other hands, the following isomorphism persists when we change $q$"
   ]
  },
  {
   "cell_type": "code",
   "execution_count": 11,
   "id": "964a3b45-65d4-404e-8f74-233239efcc7c",
   "metadata": {},
   "outputs": [
    {
     "data": {
      "text/plain": [
       "True"
      ]
     },
     "execution_count": 11,
     "metadata": {},
     "output_type": "execute_result"
    }
   ],
   "source": [
    "F.<a> = GF(3)\n",
    "R.<x> = PolynomialRing(F)\n",
    "f = x^2*(x+1)\n",
    "D1 = [1, x+1, x^2]\n",
    "g1 = abstract_gcd_cayley(f,R, D1)\n",
    "D2 = [1, x + 1, x * (x + 1)]\n",
    "g2 = abstract_gcd_cayley(f,R, D2)\n",
    "nx.is_isomorphic(g1, g2)"
   ]
  },
  {
   "cell_type": "code",
   "execution_count": 12,
   "id": "574cdb0b-487c-4531-a3e4-2069f02aa907",
   "metadata": {},
   "outputs": [
    {
     "data": {
      "text/plain": [
       "True"
      ]
     },
     "execution_count": 12,
     "metadata": {},
     "output_type": "execute_result"
    }
   ],
   "source": [
    "F.<a> = GF(5)\n",
    "R.<x> = PolynomialRing(F)\n",
    "f = x^2*(x+1)\n",
    "D1 = [1, x+1, x^2]\n",
    "g1 = abstract_gcd_cayley(f,R, D1)\n",
    "D2 = [1, x + 1, x * (x + 1)]\n",
    "g2 = abstract_gcd_cayley(f,R, D2)\n",
    "nx.is_isomorphic(g1, g2)"
   ]
  },
  {
   "cell_type": "code",
   "execution_count": 13,
   "id": "26a6ee85-c125-4f16-8f82-b422a4a357d0",
   "metadata": {},
   "outputs": [
    {
     "data": {
      "text/plain": [
       "True"
      ]
     },
     "execution_count": 13,
     "metadata": {},
     "output_type": "execute_result"
    }
   ],
   "source": [
    "F.<a> = GF(4)\n",
    "R.<x> = PolynomialRing(F)\n",
    "f1 = x\n",
    "f2 = x+1\n",
    "f = x^2*(x+1)\n",
    "D1 = [1, x+1, x^2]\n",
    "g1 = abstract_gcd_cayley(f,R, D1)\n",
    "D2 = [1, x + 1, x * (x + 1)]\n",
    "g2 = abstract_gcd_cayley(f,R, D2)\n",
    "nx.is_isomorphic(g1, g2)"
   ]
  },
  {
   "cell_type": "code",
   "execution_count": 18,
   "id": "3d183b6c-2f37-4c1c-a7c3-8f9b15aa0aba",
   "metadata": {},
   "outputs": [
    {
     "data": {
      "text/plain": [
       "True"
      ]
     },
     "execution_count": 18,
     "metadata": {},
     "output_type": "execute_result"
    }
   ],
   "source": [
    "F.<a> = GF(3)\n",
    "R.<x> = PolynomialRing(F)\n",
    "f1 = x^2+1\n",
    "f2 = x^2+x+2\n",
    "f = f1^2*f2\n",
    "D1 = [1, f2, f1^2]\n",
    "g1 = abstract_gcd_cayley(f,R, D1)\n",
    "D2 = [1, f2, f1*f2]\n",
    "g2 = abstract_gcd_cayley(f,R, D2)\n",
    "nx.is_isomorphic(g1, g2)"
   ]
  },
  {
   "cell_type": "code",
   "execution_count": null,
   "id": "8129b794-13de-418e-8105-087f8708cbb1",
   "metadata": {},
   "outputs": [],
   "source": [
    "F.<a> = GF(5)\n",
    "R.<x> = PolynomialRing(F)\n",
    "f1 = x*(x+1)\n",
    "f2 = (x+2)*(x+3)\n",
    "f = f1^2*f2\n",
    "D1 = [1, f2, f1^2]\n",
    "g1 = abstract_gcd_cayley(f,R, D1)\n",
    "D2 = [1, f2, f1*f2]\n",
    "g2 = abstract_gcd_cayley(f,R, D2)\n",
    "nx.is_isomorphic(g1, g2)"
   ]
  },
  {
   "cell_type": "code",
   "execution_count": 20,
   "id": "c8ad6509-1651-476b-9dee-47dae76a0e50",
   "metadata": {},
   "outputs": [
    {
     "data": {
      "text/plain": [
       "True"
      ]
     },
     "execution_count": 20,
     "metadata": {},
     "output_type": "execute_result"
    }
   ],
   "source": [
    "F.<a> = GF(3)\n",
    "R.<x> = PolynomialRing(F)\n",
    "f1 = x\n",
    "f2 = (x+1)\n",
    "f = f1^3*f2\n",
    "D1 = [1, f2, f1^2, f1^3]\n",
    "g1 = abstract_gcd_cayley(f,R, D1)\n",
    "D2 = [1, f2, f1*f2]\n",
    "g2 = abstract_gcd_cayley(f,R, D2)\n",
    "nx.is_isomorphic(g1, g2)"
   ]
  },
  {
   "cell_type": "code",
   "execution_count": 12,
   "id": "69ae0726-f2eb-4fcc-9d01-e4b2fd015b8a",
   "metadata": {},
   "outputs": [
    {
     "data": {
      "text/plain": [
       "True"
      ]
     },
     "execution_count": 12,
     "metadata": {},
     "output_type": "execute_result"
    }
   ],
   "source": [
    "F.<a> = GF(3)\n",
    "R.<x> = PolynomialRing(F)\n",
    "f1 = x\n",
    "f2 = x+1\n",
    "f = f1^2*f2\n",
    "D1 = [1, f2,  f1^2]\n",
    "g1 = abstract_gcd_cayley(f,R, D1)\n",
    "D2 = [1, f2, f1*f2]\n",
    "g2 = abstract_gcd_cayley(f,R, D2)\n",
    "nx.is_isomorphic(g1, g2)"
   ]
  },
  {
   "cell_type": "markdown",
   "id": "83c97ff6-38b1-44ed-bdf3-f2fb552c4837",
   "metadata": {},
   "source": [
    "## Test Remark 4.13 for $f_1= x, f_2=x+1$ for various values of $n$ and $q$"
   ]
  },
  {
   "cell_type": "code",
   "execution_count": 32,
   "id": "d207b0ba-9a73-4a24-9d10-ced14fabbaab",
   "metadata": {},
   "outputs": [
    {
     "data": {
      "text/plain": [
       "True"
      ]
     },
     "execution_count": 32,
     "metadata": {},
     "output_type": "execute_result"
    }
   ],
   "source": [
    "F.<a> = GF(2)\n",
    "R.<x> = PolynomialRing(F)\n",
    "n = 5\n",
    "f = x^n*(x+1)\n",
    "D1 = [x**i for i in range(0,n+1)]\n",
    "g1 = abstract_gcd_cayley(f,R, D1)\n",
    "f2 = x^(n+1)\n",
    "D2 = [1]\n",
    "g2 = abstract_gcd_cayley(f2,R, D2)\n",
    "nx.is_isomorphic(g1, g2)"
   ]
  },
  {
   "cell_type": "code",
   "execution_count": 36,
   "id": "df8e0b07-2ad9-46cf-a3b4-d8332a188ec4",
   "metadata": {},
   "outputs": [
    {
     "data": {
      "text/plain": [
       "True"
      ]
     },
     "execution_count": 36,
     "metadata": {},
     "output_type": "execute_result"
    }
   ],
   "source": [
    "q = 3\n",
    "F.<a> = GF(q)\n",
    "R.<x> = PolynomialRing(F)\n",
    "n = 3\n",
    "f = x^n*(x+1)\n",
    "D1 = [x**i for i in range(0,n+1)]\n",
    "g1 = abstract_gcd_cayley(f,R, D1)\n",
    "f2 = x^(n+1)\n",
    "D2 = [1]\n",
    "g2 = abstract_gcd_cayley(f2,R, D2)\n",
    "nx.is_isomorphic(g1, g2)"
   ]
  },
  {
   "cell_type": "code",
   "execution_count": 39,
   "id": "39368dc0-cb34-48a5-8a85-fc667b5d02d7",
   "metadata": {},
   "outputs": [
    {
     "name": "stdout",
     "output_type": "stream",
     "text": [
      "True\n",
      "True\n"
     ]
    }
   ],
   "source": [
    "q = 3\n",
    "F.<a> = GF(q)\n",
    "R.<x> = PolynomialRing(F)\n",
    "n = 3\n",
    "f = x^n*(x+1)\n",
    "D1 = [x**i for i in range(0,n+1)]\n",
    "g1 = abstract_gcd_cayley(f,R, D1)\n",
    "f2 = x^(n+1)\n",
    "D2 = [1]\n",
    "g2 = abstract_gcd_cayley(f2,R, D2)\n",
    "factor1 = nx.complete_graph(q)\n",
    "factor2 = nx.complement(nx.complete_graph(q**n))\n",
    "g3 = nx.lexicographic_product(factor1, factor2)\n",
    "print(nx.is_isomorphic(g1, g3))\n",
    "print(nx.is_isomorphic(g1, g2))\n",
    "\n"
   ]
  },
  {
   "cell_type": "code",
   "execution_count": 42,
   "id": "f1111300-5fae-4a82-83ec-218cd561b257",
   "metadata": {},
   "outputs": [
    {
     "name": "stdout",
     "output_type": "stream",
     "text": [
      "True\n",
      "True\n"
     ]
    }
   ],
   "source": [
    "q = 2\n",
    "F.<a> = GF(q)\n",
    "R.<x> = PolynomialRing(F)\n",
    "n = 5\n",
    "f = x^n*(x+1)\n",
    "D1 = [x**i for i in range(0,n+1)]\n",
    "g1 = abstract_gcd_cayley(f,R, D1)\n",
    "f2 = x^(n+1)\n",
    "D2 = [1]\n",
    "g2 = abstract_gcd_cayley(f2,R, D2)\n",
    "factor1 = nx.complete_graph(q)\n",
    "factor2 = nx.complement(nx.complete_graph(q**n))\n",
    "g3 = nx.lexicographic_product(factor1, factor2)\n",
    "print(nx.is_isomorphic(g1, g3))\n",
    "print(nx.is_isomorphic(g2, g3))\n"
   ]
  },
  {
   "cell_type": "code",
   "execution_count": null,
   "id": "c844c791-a806-4724-b43c-b55550d85411",
   "metadata": {},
   "outputs": [],
   "source": []
  }
 ],
 "metadata": {
  "kernelspec": {
   "display_name": "SageMath 10.4",
   "language": "sage",
   "name": "sagemath-10.4"
  },
  "language_info": {
   "codemirror_mode": {
    "name": "ipython",
    "version": 3
   },
   "file_extension": ".py",
   "mimetype": "text/x-python",
   "name": "python",
   "nbconvert_exporter": "python",
   "pygments_lexer": "ipython3",
   "version": "3.12.4"
  }
 },
 "nbformat": 4,
 "nbformat_minor": 5
}
