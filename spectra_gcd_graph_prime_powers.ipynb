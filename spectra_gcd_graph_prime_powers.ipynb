{
 "cells": [
  {
   "cell_type": "code",
   "execution_count": 2,
   "id": "8dbae5ef-336f-4b42-b91d-6dd3b07ceeb2",
   "metadata": {},
   "outputs": [],
   "source": [
    "import networkx as nx\n",
    "import matplotlib.pyplot as plt\n",
    "from itertools import chain, combinations\n",
    "from collections import Counter\n",
    "\n",
    "\n",
    "from collections import defaultdict\n",
    "def powerset(s):\n",
    "    x = len(s)\n",
    "    masks = [1 << i for i in range(x)]\n",
    "    result = []\n",
    "    for i in range(1 << x):\n",
    "        result.append([ss for mask, ss in zip(masks, s) if i & mask])\n",
    "    return result"
   ]
  },
  {
   "cell_type": "code",
   "execution_count": 3,
   "id": "50c4a92d-b00e-40b2-8bcf-c739a260e91d",
   "metadata": {},
   "outputs": [],
   "source": [
    "def unitary_cayley(f, R):\n",
    "    \"\"\"\n",
    "    This function return the unitary Cayley graph on F_q[x]/f\n",
    "    \"\"\"\n",
    "    \n",
    "    n = f.degree()-1\n",
    "    vertice = elements_quotient_ring = list(R.polynomials(max_degree=n))\n",
    "    n = len(vertice)\n",
    "    g=nx.empty_graph(n)\n",
    "    for i in range(0,n):\n",
    "        for j in range(0,n):\n",
    "            if gcd(vertice[i]-vertice[j],f) ==1:\n",
    "                g.add_edge(i,j)\n",
    "    return g  \n",
    "\n",
    "def gcd_cayley(f, R, D):\n",
    "    \"\"\"\n",
    "    return the gcd graph G_f(D)\n",
    "    \"\"\"\n",
    "    n = f.degree()-1\n",
    "    vertice = elements_quotient_ring = list(R.polynomials(max_degree=n))\n",
    "    n = len(vertice)\n",
    "    g=nx.empty_graph(n)\n",
    "    for i in range(0,n):\n",
    "        for j in range(0,n):\n",
    "            if (gcd(vertice[i]-vertice[j],f) in D) or (gcd(vertice[j]-vertice[i],f) in D):\n",
    "                g.add_edge(i,j)\n",
    "    return g \n",
    "\n",
    "def abstract_gcd_cayley(f, R, D):\n",
    "    n = f.degree()-1\n",
    "    vertice = elements_quotient_ring = list(R.polynomials(max_degree=n))\n",
    "    n = len(vertice)\n",
    "    g=nx.empty_graph(vertice)\n",
    "    for i in vertice:\n",
    "        for j in vertice:\n",
    "            if gcd(i-j,f) in D:\n",
    "                g.add_edge(i,j)\n",
    "    return g \n",
    "\n",
    "def induced_graph(g,v):\n",
    "    n = len(v)\n",
    "    induced_g=nx.empty_graph(n)\n",
    "    for i in range(n):\n",
    "        for j in range(n):\n",
    "            if v[j] in g.neighbors(v[i]):\n",
    "                induced_g.add_edge(i,j)\n",
    "    return induced_g \n",
    "\n",
    "def new_gcd(f,g):\n",
    "    if f % g ==0:\n",
    "        return 0\n",
    "    else:\n",
    "        return gcd(f,g)\n",
    "    \n",
    "def raw_char_poly(g):\n",
    "    adj_matrix = nx.adjacency_matrix(g).todense()\n",
    "    matrix_size = g.number_of_nodes()\n",
    "    matrix = adj_matrix\n",
    "    f = MatrixSpace(IntegerRing(),matrix_size)(matrix).charpoly()\n",
    "    return f\n",
    "    \n",
    "    \n",
    "def char_poly_gcd_graph(g):\n",
    "    adj_matrix = nx.adjacency_matrix(g).todense()\n",
    "    matrix_size = g.number_of_nodes()\n",
    "    matrix = adj_matrix\n",
    "    f = MatrixSpace(IntegerRing(),matrix_size)(matrix).charpoly()\n",
    "    return f.factor()\n",
    "\n",
    "def all_divisors(f):\n",
    "    n = f.degree()-1\n",
    "    vertice = elements_quotient_ring = list(R.polynomials(max_degree=n))\n",
    "    result = []\n",
    "    for item in vertice:\n",
    "        if item !=0 and f % item == 0 and item.is_monic():\n",
    "            result.append(item)\n",
    "    return result\n",
    "\n",
    "def all_divisors_new(f):\n",
    "    n = f.degree()\n",
    "    vertice = elements_quotient_ring = list(R.polynomials(max_degree=n))\n",
    "    result = []\n",
    "    for item in vertice:\n",
    "        if item !=0 and f % item == 0 and item.is_monic():\n",
    "            result.append(item)\n",
    "    return result  \n",
    "\n",
    "def radical_polynomial(g):\n",
    "    F = raw_char_poly(g)\n",
    "    factors = F.factor()\n",
    "    result = 1\n",
    "    for factor in factors:\n",
    "        result *= factor[0]\n",
    "    return result    \n",
    "    "
   ]
  },
  {
   "cell_type": "code",
   "execution_count": 4,
   "id": "6162019e-4dbf-4b64-a211-5eb3c006949b",
   "metadata": {},
   "outputs": [],
   "source": [
    "def euler_function(f,R):\n",
    "    n = f.degree()-1\n",
    "    vertice = elements_quotient_ring = list(R.polynomials(max_degree=n))\n",
    "    if n != -1: \n",
    "        count = 0 \n",
    "        for item in vertice:\n",
    "            if gcd(f,item)==1:\n",
    "                count +=1 \n",
    "        return count \n",
    "    else:\n",
    "        return 1\n",
    "        \n",
    "        \n",
    "\n",
    "def moebius_function(f):\n",
    "    factors = f.factor()\n",
    "    value = 0\n",
    "    for factor in factors:\n",
    "        if factor[1] !=1:\n",
    "            return 0\n",
    "        else:\n",
    "            value +=1\n",
    "    return (-1)**value        \n",
    "        \n",
    "\n",
    "def ramanujan_sum(g,f,R):\n",
    "    \"\"\"\n",
    "    calculate the Ramanujan sum c(g,f) \n",
    "    \"\"\"\n",
    "    if g % f ==0:\n",
    "        return euler_function(f,R)\n",
    "    h = gcd(f,g)\n",
    "    t, _ = f.quo_rem(h)\n",
    "    value  = (moebius_function(t) * euler_function(f,R))//(euler_function(t,R))\n",
    "    return value\n",
    "\n",
    "def spectra_gcd_graph(f, R, D):\n",
    "    n = f.degree()-1\n",
    "    vertice = elements_quotient_ring = list(R.polynomials(max_degree=n))\n",
    "    new_D = [f.quo_rem(g)[0] for g in D]\n",
    "    spectra = []\n",
    "    for v in vertice:\n",
    "        count = 0 \n",
    "        for item in new_D:\n",
    "            count += ramanujan_sum(v, item, R)\n",
    "        spectra.append(count)\n",
    "    return Counter(spectra)\n",
    "    \n",
    "def energy_gcd_graph(f, R, D):\n",
    "    n = f.degree()-1\n",
    "    vertice = elements_quotient_ring = list(R.polynomials(max_degree=n))\n",
    "    new_D = [f.quo_rem(g)[0] for g in D]\n",
    "    spectra = []\n",
    "    for v in vertice:\n",
    "        count = 0 \n",
    "        for item in new_D:\n",
    "            count += ramanujan_sum(v, item, R)\n",
    "        spectra.append(count)\n",
    "    abs_spectra = [abs(item) for item in spectra]    \n",
    "    return abs_spectra\n",
    "\n",
    "def gcd_determinant(f,R):\n",
    "    f_divisors = all_divisors_new(f)\n",
    "    M = len(f_divisors)\n",
    "    A = matrix.identity(M)\n",
    "    for i in range(M):\n",
    "        for j in range(M):\n",
    "            A[i,j] = ramanujan_sum(f_divisors[i], f_divisors[j],R)\n",
    "    return A\n",
    "\n",
    "def existence_odd_cycle(g):\n",
    "    result =[]\n",
    "    for cycle in cycles:\n",
    "        if len(cycle) % 2 == 1 and len(cycle)>3:\n",
    "            result.append(cycle)\n",
    "            print(cycle)\n",
    "            break\n",
    "    return len(result) > 0 \n",
    "    "
   ]
  },
  {
   "cell_type": "markdown",
   "id": "cbf9a9d5-9c76-4249-88ce-8fdadd91d5da",
   "metadata": {},
   "source": [
    "Test the function that calculates that characteristic polynomial of a gcd-graph"
   ]
  },
  {
   "cell_type": "code",
   "execution_count": 4,
   "id": "57daadec-31ec-483a-9013-ba8b41bf3fa9",
   "metadata": {},
   "outputs": [
    {
     "data": {
      "text/plain": [
       "(x - 18) * (x + 9)^2 * x^24"
      ]
     },
     "execution_count": 4,
     "metadata": {},
     "output_type": "execute_result"
    }
   ],
   "source": [
    "F.<a> = GF(3)\n",
    "R.<x> = PolynomialRing(F)\n",
    "f = x*(x+1)^2\n",
    "D = [1,x+1, (x+1)^2]\n",
    "g = abstract_gcd_cayley(f,R,D)\n",
    "h= char_poly_gcd_graph(g)\n",
    "h"
   ]
  },
  {
   "cell_type": "markdown",
   "id": "1f47b4fe-1358-458f-8fc9-078ed81e7c7d",
   "metadata": {},
   "source": [
    "Test the function that calculate Ramanujan sums"
   ]
  },
  {
   "cell_type": "code",
   "execution_count": 5,
   "id": "a29fe788-6101-49c8-8746-eb7255cc94c0",
   "metadata": {},
   "outputs": [
    {
     "data": {
      "text/plain": [
       "Counter({0: 24, -9: 2, 18: 1})"
      ]
     },
     "execution_count": 5,
     "metadata": {},
     "output_type": "execute_result"
    }
   ],
   "source": [
    "spectra_gcd_graph(f,R,D)"
   ]
  },
  {
   "cell_type": "markdown",
   "id": "854721e1-72a7-4f89-b634-a8b1cd44d02d",
   "metadata": {},
   "source": [
    "Conclusion: Both methods give the same answer for the spectrum of the gcd graph $G_{f}(D)$ with $f=x*(x+1)^2 \\in \\mathbb{F}_3[x]$\n",
    "and $D=[1, x+1, (x+1)^2]$. "
   ]
  },
  {
   "cell_type": "markdown",
   "id": "143c84a1-ccfa-4ba0-a65d-43e562e7cf78",
   "metadata": {},
   "source": [
    "# We test these functions for other gcd-graphs"
   ]
  },
  {
   "cell_type": "code",
   "execution_count": 6,
   "id": "8b4986eb-7f8d-44d5-8611-8e37e2cdf8d5",
   "metadata": {},
   "outputs": [
    {
     "name": "stdout",
     "output_type": "stream",
     "text": [
      "(x - 24) * (x + 3)^8 * x^18\n",
      "Counter({0: 18, -3: 8, 24: 1})\n"
     ]
    }
   ],
   "source": [
    "F.<a> = GF(3)\n",
    "R.<x> = PolynomialRing(F)\n",
    "f = x*(x^2+1)\n",
    "D = [1,x]\n",
    "g = abstract_gcd_cayley(f,R,D)\n",
    "h= char_poly_gcd_graph(g)\n",
    "print(h)\n",
    "print(spectra_gcd_graph(f,R,D))"
   ]
  },
  {
   "cell_type": "code",
   "execution_count": 7,
   "id": "32d3bf16-a654-450b-b98e-b1e88ec1ba18",
   "metadata": {},
   "outputs": [
    {
     "name": "stdout",
     "output_type": "stream",
     "text": [
      "(x - 164) * (x + 79)^2 * (x - 2)^78 * (x + 1)^162\n",
      "Counter({-1: 162, 2: 78, -79: 2, 164: 1})\n"
     ]
    }
   ],
   "source": [
    "F.<a> = GF(3)\n",
    "R.<x> = PolynomialRing(F)\n",
    "f = x^5\n",
    "D = [1,x^4]\n",
    "g = abstract_gcd_cayley(f,R,D)\n",
    "h= char_poly_gcd_graph(g)\n",
    "print(h)\n",
    "print(spectra_gcd_graph(f,R,D))"
   ]
  },
  {
   "cell_type": "code",
   "execution_count": 12,
   "id": "d1164039-6703-4c46-bff6-ffea98d9bfbc",
   "metadata": {},
   "outputs": [
    {
     "name": "stdout",
     "output_type": "stream",
     "text": [
      "(x - 218) * (x + 25)^8 * (x - 2)^72 * (x + 1)^162\n",
      "Counter({-1: 162, 2: 72, -25: 8, 218: 1})\n"
     ]
    }
   ],
   "source": [
    "F.<a> = GF(3)\n",
    "R.<x> = PolynomialRing(F)\n",
    "n = 5\n",
    "f = x^n\n",
    "D = [1, x, x^4]\n",
    "g = abstract_gcd_cayley(f,R,D)\n",
    "h= char_poly_gcd_graph(g)\n",
    "print(h)\n",
    "print(spectra_gcd_graph(f,R,D))"
   ]
  },
  {
   "cell_type": "code",
   "execution_count": 15,
   "id": "0776ad69-d8c2-4282-b4c9-acea3e31b0b5",
   "metadata": {},
   "outputs": [
    {
     "name": "stdout",
     "output_type": "stream",
     "text": [
      "(x - 170) * (x + 73)^2 * (x - 8)^24 * (x + 1)^216\n",
      "Counter({-1: 216, 8: 24, -73: 2, 170: 1})\n"
     ]
    }
   ],
   "source": [
    "F.<a> = GF(3)\n",
    "R.<x> = PolynomialRing(F)\n",
    "n = 5\n",
    "f = x^n\n",
    "D = [1, x^3, x^4]\n",
    "g = abstract_gcd_cayley(f,R,D)\n",
    "h= char_poly_gcd_graph(g)\n",
    "print(h)\n",
    "print(spectra_gcd_graph(f,R,D))"
   ]
  },
  {
   "cell_type": "markdown",
   "id": "8d3842e7-66ac-4c18-a759-1299252491aa",
   "metadata": {},
   "source": [
    "# Spectrum of $G_{f}(D)$ where $f=x^5 \\in \\mathbb{F}_3[x]$ and $D$ is a subset of $Div(f)$."
   ]
  },
  {
   "cell_type": "code",
   "execution_count": 5,
   "id": "4d6f3312-876c-4a3f-ac46-25912d61c392",
   "metadata": {},
   "outputs": [
    {
     "data": {
      "text/plain": [
       "[[[1], Counter({0: 240, -81: 2, 162: 1})],\n",
       " [[x], Counter({0: 234, -27: 6, 54: 3})],\n",
       " [[1, x], Counter({0: 234, -27: 8, 216: 1})],\n",
       " [[x^2], Counter({0: 216, -9: 18, 18: 9})],\n",
       " [[1, x^2], Counter({0: 216, -9: 18, 18: 6, -63: 2, 180: 1})],\n",
       " [[x, x^2], Counter({0: 216, -9: 24, 72: 3})],\n",
       " [[1, x, x^2], Counter({0: 216, -9: 26, 234: 1})],\n",
       " [[x^3], Counter({0: 162, -3: 54, 6: 27})],\n",
       " [[1, x^3], Counter({0: 162, -3: 54, 6: 24, -75: 2, 168: 1})],\n",
       " [[x, x^3], Counter({0: 162, -3: 54, 6: 18, -21: 6, 60: 3})],\n",
       " [[1, x, x^3], Counter({0: 162, -3: 54, 6: 18, -21: 8, 222: 1})],\n",
       " [[x^2, x^3], Counter({0: 162, -3: 72, 24: 9})],\n",
       " [[1, x^2, x^3], Counter({0: 162, -3: 72, 24: 6, -57: 2, 186: 1})],\n",
       " [[x, x^2, x^3], Counter({0: 162, -3: 78, 78: 3})],\n",
       " [[1, x, x^2, x^3], Counter({0: 162, -3: 80, 240: 1})],\n",
       " [[x^4], Counter({-1: 162, 2: 81})],\n",
       " [[1, x^4], Counter({-1: 162, 2: 78, -79: 2, 164: 1})],\n",
       " [[x, x^4], Counter({-1: 162, 2: 72, -25: 6, 56: 3})],\n",
       " [[1, x, x^4], Counter({-1: 162, 2: 72, -25: 8, 218: 1})],\n",
       " [[x^2, x^4], Counter({-1: 162, 2: 54, -7: 18, 20: 9})],\n",
       " [[1, x^2, x^4], Counter({-1: 162, 2: 54, -7: 18, 20: 6, -61: 2, 182: 1})],\n",
       " [[x, x^2, x^4], Counter({-1: 162, 2: 54, -7: 24, 74: 3})],\n",
       " [[1, x, x^2, x^4], Counter({-1: 162, 2: 54, -7: 26, 236: 1})],\n",
       " [[x^3, x^4], Counter({-1: 216, 8: 27})],\n",
       " [[1, x^3, x^4], Counter({-1: 216, 8: 24, -73: 2, 170: 1})],\n",
       " [[x, x^3, x^4], Counter({-1: 216, 8: 18, -19: 6, 62: 3})],\n",
       " [[1, x, x^3, x^4], Counter({-1: 216, 8: 18, -19: 8, 224: 1})],\n",
       " [[x^2, x^3, x^4], Counter({-1: 234, 26: 9})],\n",
       " [[1, x^2, x^3, x^4], Counter({-1: 234, 26: 6, -55: 2, 188: 1})],\n",
       " [[x, x^2, x^3, x^4], Counter({-1: 240, 80: 3})],\n",
       " [[1, x, x^2, x^3, x^4], Counter({-1: 242, 242: 1})]]"
      ]
     },
     "execution_count": 5,
     "metadata": {},
     "output_type": "execute_result"
    }
   ],
   "source": [
    "F.<a> = GF(3)\n",
    "R.<x> = PolynomialRing(F)\n",
    "n = 5\n",
    "f = x^n\n",
    "list_divisors = all_divisors(f)\n",
    "all_D = powerset(list_divisors)[1:]\n",
    "result = []\n",
    "for D in all_D:\n",
    "    result.append([D, spectra_gcd_graph(f,R,D)])\n",
    "result"
   ]
  },
  {
   "cell_type": "markdown",
   "id": "87b343ae-fa72-47c4-8122-cc3436f7ae1c",
   "metadata": {},
   "source": [
    "# Find $D$ such that $-1$ is an eigenvalue of $G_f(D)$"
   ]
  },
  {
   "cell_type": "code",
   "execution_count": 19,
   "id": "b65d11fc-41e9-4d2b-8ed0-11afb124fce7",
   "metadata": {},
   "outputs": [
    {
     "name": "stdout",
     "output_type": "stream",
     "text": [
      "[[x^4], Counter({-1: 162, 2: 81})]\n",
      "[[1, x^4], Counter({-1: 162, 2: 78, -79: 2, 164: 1})]\n",
      "[[x, x^4], Counter({-1: 162, 2: 72, -25: 6, 56: 3})]\n",
      "[[1, x, x^4], Counter({-1: 162, 2: 72, -25: 8, 218: 1})]\n",
      "[[x^2, x^4], Counter({-1: 162, 2: 54, -7: 18, 20: 9})]\n",
      "[[1, x^2, x^4], Counter({-1: 162, 2: 54, -7: 18, 20: 6, -61: 2, 182: 1})]\n",
      "[[x, x^2, x^4], Counter({-1: 162, 2: 54, -7: 24, 74: 3})]\n",
      "[[1, x, x^2, x^4], Counter({-1: 162, 2: 54, -7: 26, 236: 1})]\n",
      "[[x^3, x^4], Counter({-1: 216, 8: 27})]\n",
      "[[1, x^3, x^4], Counter({-1: 216, 8: 24, -73: 2, 170: 1})]\n",
      "[[x, x^3, x^4], Counter({-1: 216, 8: 18, -19: 6, 62: 3})]\n",
      "[[1, x, x^3, x^4], Counter({-1: 216, 8: 18, -19: 8, 224: 1})]\n",
      "[[x^2, x^3, x^4], Counter({-1: 234, 26: 9})]\n",
      "[[1, x^2, x^3, x^4], Counter({-1: 234, 26: 6, -55: 2, 188: 1})]\n",
      "[[x, x^2, x^3, x^4], Counter({-1: 240, 80: 3})]\n",
      "[[1, x, x^2, x^3, x^4], Counter({-1: 242, 242: 1})]\n",
      "16\n"
     ]
    }
   ],
   "source": [
    "count = 0 \n",
    "for item in result:\n",
    "    if -1 in item[1]:\n",
    "        print(item)\n",
    "        count +=1\n",
    "print(count)"
   ]
  },
  {
   "cell_type": "markdown",
   "id": "9bf46d67-c768-4c51-9b0d-52002627fb4d",
   "metadata": {},
   "source": [
    "# $f= x^3 \\in \\mathbb{F}_4[x]$"
   ]
  },
  {
   "cell_type": "code",
   "execution_count": 21,
   "id": "140a4258-9dbc-4d36-ab69-7284dc344975",
   "metadata": {},
   "outputs": [
    {
     "name": "stdout",
     "output_type": "stream",
     "text": [
      "[[x^3], Counter({-1: 192, 3: 64})]\n",
      "[[1, x^3], Counter({-1: 192, 3: 60, -61: 3, 195: 1})]\n",
      "[[x, x^3], Counter({-1: 192, 3: 48, -13: 12, 51: 4})]\n",
      "[[1, x, x^3], Counter({-1: 192, 3: 48, -13: 15, 243: 1})]\n",
      "[[x^2, x^3], Counter({-1: 240, 15: 16})]\n",
      "[[1, x^2, x^3], Counter({-1: 240, 15: 12, -49: 3, 207: 1})]\n",
      "[[x, x^2, x^3], Counter({-1: 252, 63: 4})]\n",
      "[[1, x, x^2, x^3], Counter({-1: 255, 255: 1})]\n",
      "8\n"
     ]
    }
   ],
   "source": [
    "F.<a> = GF(4)\n",
    "R.<x> = PolynomialRing(F)\n",
    "n = 4\n",
    "f = x^n\n",
    "list_divisors = all_divisors(f)\n",
    "all_D = powerset(list_divisors)[1:]\n",
    "result = []\n",
    "for D in all_D:\n",
    "    result.append([D, spectra_gcd_graph(f,R,D)])\n",
    "count = 0 \n",
    "for item in result:\n",
    "    if -1 in item[1]:\n",
    "        print(item)\n",
    "        count +=1\n",
    "print(count)"
   ]
  },
  {
   "cell_type": "markdown",
   "id": "a93f5b6b-d279-4e81-9d43-f79ce5a2fffd",
   "metadata": {},
   "source": [
    "# $f = (x^2+1)^4 \\in \\mathbb{F}_3[x]$"
   ]
  },
  {
   "cell_type": "code",
   "execution_count": 22,
   "id": "9bf938b4-b041-483b-8a2f-de2f0a72fd8f",
   "metadata": {},
   "outputs": [
    {
     "name": "stdout",
     "output_type": "stream",
     "text": [
      "[[x^6 + 1], Counter({-1: 5832, 8: 729})]\n",
      "[[1, x^6 + 1], Counter({-1: 5832, 8: 720, -721: 8, 5840: 1})]\n",
      "[[x^2 + 1, x^6 + 1], Counter({-1: 5832, 8: 648, -73: 72, 656: 9})]\n",
      "[[1, x^2 + 1, x^6 + 1], Counter({-1: 5832, 8: 648, -73: 80, 6488: 1})]\n",
      "[[x^4 + 2*x^2 + 1, x^6 + 1], Counter({-1: 6480, 80: 81})]\n",
      "[[1, x^4 + 2*x^2 + 1, x^6 + 1], Counter({-1: 6480, 80: 72, -649: 8, 5912: 1})]\n",
      "[[x^2 + 1, x^4 + 2*x^2 + 1, x^6 + 1], Counter({-1: 6552, 728: 9})]\n",
      "[[1, x^2 + 1, x^4 + 2*x^2 + 1, x^6 + 1], Counter({-1: 6560, 6560: 1})]\n",
      "8\n"
     ]
    }
   ],
   "source": [
    "F.<a> = GF(3)\n",
    "R.<x> = PolynomialRing(F)\n",
    "n = 4\n",
    "f = (x^2+1)^n\n",
    "list_divisors = all_divisors(f)\n",
    "all_D = powerset(list_divisors)[1:]\n",
    "result = []\n",
    "for D in all_D:\n",
    "    result.append([D, spectra_gcd_graph(f,R,D)])\n",
    "count = 0 \n",
    "for item in result:\n",
    "    if -1 in item[1]:\n",
    "        print(item)\n",
    "        count +=1\n",
    "print(count)"
   ]
  },
  {
   "cell_type": "markdown",
   "id": "254f48be-0d84-49f6-beae-a38a6c22d62f",
   "metadata": {},
   "source": [
    "# $f=(x^2+x+1)^4 \\in \\mathbb{F}_2[x]$"
   ]
  },
  {
   "cell_type": "code",
   "execution_count": 24,
   "id": "6126a470-39d3-4206-a23f-5d4a4d79c3dd",
   "metadata": {},
   "outputs": [
    {
     "name": "stdout",
     "output_type": "stream",
     "text": [
      "[[x^6 + x^5 + x^3 + x + 1], Counter({-1: 192, 3: 64})]\n",
      "[[1, x^6 + x^5 + x^3 + x + 1], Counter({-1: 192, 3: 60, -61: 3, 195: 1})]\n",
      "[[x^2 + x + 1, x^6 + x^5 + x^3 + x + 1], Counter({-1: 192, 3: 48, -13: 12, 51: 4})]\n",
      "[[1, x^2 + x + 1, x^6 + x^5 + x^3 + x + 1], Counter({-1: 192, 3: 48, -13: 15, 243: 1})]\n",
      "[[x^4 + x^2 + 1, x^6 + x^5 + x^3 + x + 1], Counter({-1: 240, 15: 16})]\n",
      "[[1, x^4 + x^2 + 1, x^6 + x^5 + x^3 + x + 1], Counter({-1: 240, 15: 12, -49: 3, 207: 1})]\n",
      "[[x^2 + x + 1, x^4 + x^2 + 1, x^6 + x^5 + x^3 + x + 1], Counter({-1: 252, 63: 4})]\n",
      "[[1, x^2 + x + 1, x^4 + x^2 + 1, x^6 + x^5 + x^3 + x + 1], Counter({-1: 255, 255: 1})]\n",
      "8\n"
     ]
    }
   ],
   "source": [
    "F.<a> = GF(2)\n",
    "R.<x> = PolynomialRing(F)\n",
    "n = 4\n",
    "f = (x**2+x+1)^n\n",
    "list_divisors = all_divisors(f)\n",
    "all_D = powerset(list_divisors)[1:]\n",
    "result = []\n",
    "for D in all_D:\n",
    "    result.append([D, spectra_gcd_graph(f,R,D)])\n",
    "count = 0 \n",
    "for item in result:\n",
    "    if -1 in item[1]:\n",
    "        print(item)\n",
    "        count +=1\n",
    "print(count)"
   ]
  },
  {
   "cell_type": "markdown",
   "id": "6f9dd371-776e-4b22-b1c0-ba9e162e0c25",
   "metadata": {},
   "source": [
    "## The list of $D$ such that  of $G_{f}(D)$ has exactly 2 eigenvalues."
   ]
  },
  {
   "cell_type": "code",
   "execution_count": 9,
   "id": "1dd2294b-4794-4b30-8dc3-65de2fba1e4c",
   "metadata": {},
   "outputs": [
    {
     "name": "stdout",
     "output_type": "stream",
     "text": [
      "[[x^3], Counter({-1: 54, 2: 27})]\n",
      "[[x^2, x^3], Counter({-1: 72, 8: 9})]\n",
      "[[x, x^2, x^3], Counter({-1: 78, 26: 3})]\n",
      "[[1, x, x^2, x^3], Counter({-1: 80, 80: 1})]\n"
     ]
    }
   ],
   "source": [
    "F.<a> = GF(3)\n",
    "R.<x> = PolynomialRing(F)\n",
    "n = 4\n",
    "f = x^n\n",
    "list_divisors = all_divisors(f)\n",
    "all_D = powerset(list_divisors)[1:]\n",
    "result = []\n",
    "for D in all_D:\n",
    "    result.append([D, spectra_gcd_graph(f,R,D)])\n",
    "for item in result:\n",
    "    if len(item[1])==2:\n",
    "        print(item)"
   ]
  },
  {
   "cell_type": "code",
   "execution_count": 10,
   "id": "b7024510-329f-41ed-a30c-32ab16c35f7a",
   "metadata": {},
   "outputs": [
    {
     "name": "stdout",
     "output_type": "stream",
     "text": [
      "[[x^4], Counter({-1: 162, 2: 81})]\n",
      "[[x^3, x^4], Counter({-1: 216, 8: 27})]\n",
      "[[x^2, x^3, x^4], Counter({-1: 234, 26: 9})]\n",
      "[[x, x^2, x^3, x^4], Counter({-1: 240, 80: 3})]\n",
      "[[1, x, x^2, x^3, x^4], Counter({-1: 242, 242: 1})]\n"
     ]
    }
   ],
   "source": [
    "F.<a> = GF(3)\n",
    "R.<x> = PolynomialRing(F)\n",
    "n = 5\n",
    "f = x^n\n",
    "list_divisors = all_divisors(f)\n",
    "all_D = powerset(list_divisors)[1:]\n",
    "result = []\n",
    "for D in all_D:\n",
    "    result.append([D, spectra_gcd_graph(f,R,D)])\n",
    "for item in result:\n",
    "    if len(item[1])==2:\n",
    "        print(item)"
   ]
  },
  {
   "cell_type": "code",
   "execution_count": 12,
   "id": "3ad25840-c5cf-4a9d-84e4-4ede431719ad",
   "metadata": {},
   "outputs": [
    {
     "name": "stdout",
     "output_type": "stream",
     "text": [
      "[[x^6 + 1], Counter({-1: 5832, 8: 729})]\n",
      "[[x^4 + 2*x^2 + 1, x^6 + 1], Counter({-1: 6480, 80: 81})]\n",
      "[[x^2 + 1, x^4 + 2*x^2 + 1, x^6 + 1], Counter({-1: 6552, 728: 9})]\n",
      "[[1, x^2 + 1, x^4 + 2*x^2 + 1, x^6 + 1], Counter({-1: 6560, 6560: 1})]\n"
     ]
    }
   ],
   "source": [
    "F.<a> = GF(3)\n",
    "R.<x> = PolynomialRing(F)\n",
    "n = 4\n",
    "f = (x^2+1)^n\n",
    "list_divisors = all_divisors(f)\n",
    "all_D = powerset(list_divisors)[1:]\n",
    "result = []\n",
    "for D in all_D:\n",
    "    result.append([D, spectra_gcd_graph(f,R,D)])\n",
    "for item in result:\n",
    "    if len(item[1])==2:\n",
    "        print(item)"
   ]
  },
  {
   "cell_type": "markdown",
   "id": "7ac09292-a4f5-45a9-b090-72e69f4cd983",
   "metadata": {},
   "source": [
    "# Eigenvalue 0"
   ]
  },
  {
   "cell_type": "code",
   "execution_count": 8,
   "id": "1b60f863-3486-4819-b2af-594d07bff195",
   "metadata": {},
   "outputs": [
    {
     "name": "stdout",
     "output_type": "stream",
     "text": [
      "[[], Counter({0: 81})]\n",
      "[[1], Counter({0: 78, -27: 2, 54: 1})]\n",
      "[[x], Counter({0: 72, -9: 6, 18: 3})]\n",
      "[[1, x], Counter({0: 72, -9: 8, 72: 1})]\n",
      "[[x^2], Counter({0: 54, -3: 18, 6: 9})]\n",
      "[[1, x^2], Counter({0: 54, -3: 18, 6: 6, -21: 2, 60: 1})]\n",
      "[[x, x^2], Counter({0: 54, -3: 24, 24: 3})]\n",
      "[[1, x, x^2], Counter({0: 54, -3: 26, 78: 1})]\n",
      "8\n"
     ]
    }
   ],
   "source": [
    "F.<a> = GF(3)\n",
    "R.<x> = PolynomialRing(F)\n",
    "n = 4\n",
    "f = x^n\n",
    "list_divisors = all_divisors(f)\n",
    "all_D = powerset(list_divisors)\n",
    "result = []\n",
    "for D in all_D:\n",
    "    result.append([D, spectra_gcd_graph(f,R,D)])\n",
    "count = 0 \n",
    "for item in result:\n",
    "    if 0 in item[1]:\n",
    "        print(item)\n",
    "        count +=1\n",
    "print(count)"
   ]
  },
  {
   "cell_type": "code",
   "execution_count": 10,
   "id": "80b4d77b-d584-40e4-b664-2037c678c4be",
   "metadata": {},
   "outputs": [
    {
     "name": "stdout",
     "output_type": "stream",
     "text": [
      "[[], Counter({0: 243})]\n",
      "[[1], Counter({0: 240, -81: 2, 162: 1})]\n",
      "[[x], Counter({0: 234, -27: 6, 54: 3})]\n",
      "[[1, x], Counter({0: 234, -27: 8, 216: 1})]\n",
      "[[x^2], Counter({0: 216, -9: 18, 18: 9})]\n",
      "[[1, x^2], Counter({0: 216, -9: 18, 18: 6, -63: 2, 180: 1})]\n",
      "[[x, x^2], Counter({0: 216, -9: 24, 72: 3})]\n",
      "[[1, x, x^2], Counter({0: 216, -9: 26, 234: 1})]\n",
      "[[x^3], Counter({0: 162, -3: 54, 6: 27})]\n",
      "[[1, x^3], Counter({0: 162, -3: 54, 6: 24, -75: 2, 168: 1})]\n",
      "[[x, x^3], Counter({0: 162, -3: 54, 6: 18, -21: 6, 60: 3})]\n",
      "[[1, x, x^3], Counter({0: 162, -3: 54, 6: 18, -21: 8, 222: 1})]\n",
      "[[x^2, x^3], Counter({0: 162, -3: 72, 24: 9})]\n",
      "[[1, x^2, x^3], Counter({0: 162, -3: 72, 24: 6, -57: 2, 186: 1})]\n",
      "[[x, x^2, x^3], Counter({0: 162, -3: 78, 78: 3})]\n",
      "[[1, x, x^2, x^3], Counter({0: 162, -3: 80, 240: 1})]\n",
      "16\n"
     ]
    }
   ],
   "source": [
    "F.<a> = GF(3)\n",
    "R.<x> = PolynomialRing(F)\n",
    "n = 5\n",
    "f = x^n\n",
    "list_divisors = all_divisors(f)\n",
    "all_D = powerset(list_divisors)\n",
    "result = []\n",
    "for D in all_D:\n",
    "    result.append([D, spectra_gcd_graph(f,R,D)])\n",
    "count = 0 \n",
    "for item in result:\n",
    "    if 0 in item[1]:\n",
    "        print(item)\n",
    "        count +=1\n",
    "print(count)"
   ]
  },
  {
   "cell_type": "markdown",
   "id": "5ee67af6-ddf0-4486-b9f0-049b570a339a",
   "metadata": {},
   "source": [
    "# Eigenvalue 1 "
   ]
  },
  {
   "cell_type": "code",
   "execution_count": 16,
   "id": "b058afa7-d437-445c-b3de-b024ca0d471b",
   "metadata": {},
   "outputs": [],
   "source": [
    "F.<a> = GF(3)\n",
    "R.<x> = PolynomialRing(F)\n",
    "n = 5\n",
    "f = x^n\n",
    "list_divisors = all_divisors(f)\n",
    "all_D = powerset(list_divisors)[1:]\n",
    "result = []\n",
    "for D in all_D:\n",
    "    result.append([D, spectra_gcd_graph(f,R,D)])\n",
    "for item in result:\n",
    "    if 1 in item[1]:\n",
    "        print(item)"
   ]
  },
  {
   "cell_type": "code",
   "execution_count": 23,
   "id": "c6bda184-8a14-4df1-a327-48315177d265",
   "metadata": {},
   "outputs": [
    {
     "name": "stdout",
     "output_type": "stream",
     "text": [
      "[[x], Counter({1: 2, -1: 2})]\n"
     ]
    }
   ],
   "source": [
    "F.<a> = GF(2)\n",
    "R.<x> = PolynomialRing(F)\n",
    "n = 2\n",
    "f = x^n\n",
    "list_divisors = all_divisors(f)\n",
    "all_D = powerset(list_divisors)[1:]\n",
    "result = []\n",
    "for D in all_D:\n",
    "    result.append([D, spectra_gcd_graph(f,R,D)])\n",
    "for item in result:\n",
    "    if 1 in item[1]:\n",
    "        print(item)"
   ]
  },
  {
   "cell_type": "code",
   "execution_count": 28,
   "id": "3dc02e11-8aa8-47e6-8963-d27a35b60f8b",
   "metadata": {},
   "outputs": [
    {
     "name": "stdout",
     "output_type": "stream",
     "text": [
      "[[1, x^2], Counter({-1: 4, 1: 2, 5: 1, -3: 1})]\n"
     ]
    }
   ],
   "source": [
    "F.<a> = GF(2)\n",
    "R.<x> = PolynomialRing(F)\n",
    "n = 3\n",
    "f = x^n\n",
    "list_divisors = all_divisors(f)\n",
    "all_D = powerset(list_divisors)[1:]\n",
    "result = []\n",
    "for D in all_D:\n",
    "    result.append([D, spectra_gcd_graph(f,R,D)])\n",
    "for item in result:\n",
    "    if 1 in item[1] and 1 in item[0]:\n",
    "        print(item)"
   ]
  },
  {
   "cell_type": "code",
   "execution_count": 29,
   "id": "b887fde9-f9e7-459b-b8ae-f66513062875",
   "metadata": {},
   "outputs": [
    {
     "name": "stdout",
     "output_type": "stream",
     "text": [
      "[[1, x^3], Counter({-1: 8, 1: 6, 9: 1, -7: 1})]\n",
      "[[1, x, x^3], Counter({-1: 8, 1: 4, -3: 3, 13: 1})]\n"
     ]
    }
   ],
   "source": [
    "F.<a> = GF(2)\n",
    "R.<x> = PolynomialRing(F)\n",
    "n = 4\n",
    "f = x^n\n",
    "list_divisors = all_divisors(f)\n",
    "all_D = powerset(list_divisors)[1:]\n",
    "result = []\n",
    "for D in all_D:\n",
    "    result.append([D, spectra_gcd_graph(f,R,D)])\n",
    "for item in result:\n",
    "    if 1 in item[1] and 1 in item[0]:\n",
    "        print(item)"
   ]
  },
  {
   "cell_type": "code",
   "execution_count": 32,
   "id": "78c5e552-af3a-44ea-8587-fd547d96b810",
   "metadata": {},
   "outputs": [
    {
     "name": "stdout",
     "output_type": "stream",
     "text": [
      "[[1, x^4], Counter({-1: 16, 1: 14, 17: 1, -15: 1})]\n",
      "[[1, x, x^4], Counter({-1: 16, 1: 12, -7: 3, 25: 1})]\n",
      "[[1, x^2, x^4], Counter({-1: 16, 1: 8, -3: 4, 5: 2, 21: 1, -11: 1})]\n",
      "[[1, x, x^2, x^4], Counter({-1: 16, 1: 8, -3: 7, 29: 1})]\n",
      "4\n"
     ]
    }
   ],
   "source": [
    "F.<a> = GF(2)\n",
    "R.<x> = PolynomialRing(F)\n",
    "n = 5\n",
    "f = x^n\n",
    "list_divisors = all_divisors(f)\n",
    "all_D = powerset(list_divisors)[1:]\n",
    "result = []\n",
    "for D in all_D:\n",
    "    result.append([D, spectra_gcd_graph(f,R,D)])\n",
    "count = 0     \n",
    "for item in result:\n",
    "    if 1 in item[1] and 1 in item[0]:\n",
    "        print(item)\n",
    "        count +=1\n",
    "print(count)"
   ]
  },
  {
   "cell_type": "code",
   "execution_count": 31,
   "id": "1d32455c-4b1d-4e54-bc0f-7ed0df32be0d",
   "metadata": {},
   "outputs": [
    {
     "name": "stdout",
     "output_type": "stream",
     "text": [
      "[[1, x^5], Counter({-1: 32, 1: 30, 33: 1, -31: 1})]\n",
      "[[1, x, x^5], Counter({-1: 32, 1: 28, -15: 3, 49: 1})]\n",
      "[[1, x^2, x^5], Counter({-1: 32, 1: 24, -7: 4, 9: 2, 41: 1, -23: 1})]\n",
      "[[1, x, x^2, x^5], Counter({-1: 32, 1: 24, -7: 7, 57: 1})]\n",
      "[[1, x^3, x^5], Counter({-1: 32, 1: 16, -3: 8, 5: 6, 37: 1, -27: 1})]\n",
      "[[1, x, x^3, x^5], Counter({-1: 32, 1: 16, -3: 8, 5: 4, -11: 3, 53: 1})]\n",
      "[[1, x^2, x^3, x^5], Counter({-1: 32, 1: 16, -3: 12, 13: 2, 45: 1, -19: 1})]\n",
      "[[1, x, x^2, x^3, x^5], Counter({-1: 32, 1: 16, -3: 15, 61: 1})]\n",
      "8\n"
     ]
    }
   ],
   "source": [
    "F.<a> = GF(2)\n",
    "R.<x> = PolynomialRing(F)\n",
    "n = 6\n",
    "f = x^n\n",
    "list_divisors = all_divisors(f)\n",
    "all_D = powerset(list_divisors)[1:]\n",
    "result = []\n",
    "for D in all_D:\n",
    "    result.append([D, spectra_gcd_graph(f,R,D)])\n",
    "count = 0     \n",
    "for item in result:\n",
    "    if 1 in item[1] and 1 in item[0]:\n",
    "        print(item)\n",
    "        count +=1\n",
    "print(count)"
   ]
  },
  {
   "cell_type": "code",
   "execution_count": 33,
   "id": "5c271d1a-e7c9-49f6-8d4a-fb27f7e029c3",
   "metadata": {},
   "outputs": [
    {
     "name": "stdout",
     "output_type": "stream",
     "text": [
      "[[1, x^6], Counter({-1: 64, 1: 62, 65: 1, -63: 1})]\n",
      "[[1, x, x^6], Counter({-1: 64, 1: 60, -31: 3, 97: 1})]\n",
      "[[1, x^2, x^6], Counter({-1: 64, 1: 56, -15: 4, 17: 2, 81: 1, -47: 1})]\n",
      "[[1, x, x^2, x^6], Counter({-1: 64, 1: 56, -15: 7, 113: 1})]\n",
      "[[1, x^3, x^6], Counter({-1: 64, 1: 48, -7: 8, 9: 6, 73: 1, -55: 1})]\n",
      "[[1, x, x^3, x^6], Counter({-1: 64, 1: 48, -7: 8, 9: 4, -23: 3, 105: 1})]\n",
      "[[1, x^2, x^3, x^6], Counter({-1: 64, 1: 48, -7: 12, 25: 2, 89: 1, -39: 1})]\n",
      "[[1, x, x^2, x^3, x^6], Counter({-1: 64, 1: 48, -7: 15, 121: 1})]\n",
      "[[1, x^4, x^6], Counter({-1: 64, 1: 32, -3: 16, 5: 14, 69: 1, -59: 1})]\n",
      "[[1, x, x^4, x^6], Counter({-1: 64, 1: 32, -3: 16, 5: 12, -27: 3, 101: 1})]\n",
      "[[1, x^2, x^4, x^6], Counter({-1: 64, 1: 32, -3: 16, 5: 8, -11: 4, 21: 2, 85: 1, -43: 1})]\n",
      "[[1, x, x^2, x^4, x^6], Counter({-1: 64, 1: 32, -3: 16, 5: 8, -11: 7, 117: 1})]\n",
      "[[1, x^3, x^4, x^6], Counter({-1: 64, 1: 32, -3: 24, 13: 6, 77: 1, -51: 1})]\n",
      "[[1, x, x^3, x^4, x^6], Counter({-1: 64, 1: 32, -3: 24, 13: 4, -19: 3, 109: 1})]\n",
      "[[1, x^2, x^3, x^4, x^6], Counter({-1: 64, 1: 32, -3: 28, 29: 2, 93: 1, -35: 1})]\n",
      "[[1, x, x^2, x^3, x^4, x^6], Counter({-1: 64, 1: 32, -3: 31, 125: 1})]\n",
      "16\n"
     ]
    }
   ],
   "source": [
    "F.<a> = GF(2)\n",
    "R.<x> = PolynomialRing(F)\n",
    "n = 7\n",
    "f = x^n\n",
    "list_divisors = all_divisors(f)\n",
    "all_D = powerset(list_divisors)[1:]\n",
    "result = []\n",
    "for D in all_D:\n",
    "    result.append([D, spectra_gcd_graph(f,R,D)])\n",
    "count = 0     \n",
    "for item in result:\n",
    "    if 1 in item[1] and 1 in item[0]:\n",
    "        print(item)\n",
    "        count +=1\n",
    "print(count)"
   ]
  },
  {
   "cell_type": "code",
   "execution_count": 36,
   "id": "6e2f9de4-a3a0-464b-b2b7-0cab8b83ffd7",
   "metadata": {},
   "outputs": [
    {
     "name": "stdout",
     "output_type": "stream",
     "text": [
      "[[1, x^3], Counter({-1: 8, 1: 6, 9: 1, -7: 1})]\n",
      "[[1, x, x^3], Counter({-1: 8, 1: 4, -3: 3, 13: 1})]\n",
      "2\n"
     ]
    }
   ],
   "source": [
    "F.<a> = GF(2)\n",
    "R.<x> = PolynomialRing(F)\n",
    "n = 4\n",
    "f = x^n\n",
    "list_divisors = all_divisors(f)\n",
    "all_D = powerset(list_divisors)[1:]\n",
    "result = []\n",
    "for D in all_D:\n",
    "    result.append([D, spectra_gcd_graph(f,R,D)])\n",
    "count = 0     \n",
    "for item in result:\n",
    "    if 1 in item[1] and 1 in item[0]:\n",
    "        print(item)\n",
    "        count +=1\n",
    "print(count)"
   ]
  },
  {
   "cell_type": "code",
   "execution_count": 8,
   "id": "8e440687-7d9f-48cc-9308-c130b9649a48",
   "metadata": {},
   "outputs": [
    {
     "name": "stdout",
     "output_type": "stream",
     "text": [
      "[]\n",
      "No odd-cycle\n"
     ]
    }
   ],
   "source": [
    "F.<a> = GF(3)\n",
    "R.<x> = PolynomialRing(F)\n",
    "n = 5 \n",
    "f = x^n\n",
    "D = [1,x,x^2, x^4]\n",
    "g = abstract_gcd_cayley(f,R,D)\n",
    "cycles = nx.cycle_basis(g)\n",
    "result =[]\n",
    "for cycle in cycles:\n",
    "    if len(cycle) % 2 == 1 and len(cycle)>3:\n",
    "        result.append(cycle)\n",
    "        print(cycle)\n",
    "        break\n",
    "print(result)\n",
    "if len(result) > 0:\n",
    "    cycle = result[0]\n",
    "    n = f.degree()-1\n",
    "    vertice = elements_quotient_ring = list(R.polynomials(max_degree=n))\n",
    "    v = [vertice[item] for item in cycle]\n",
    "    print(v)\n",
    "    cycle = result[0]\n",
    "    c = induced_graph(g,cycle)\n",
    "    nx.draw(c)  \n",
    "else: \n",
    "    print(\"No odd-cycle\")\n",
    "  "
   ]
  },
  {
   "cell_type": "code",
   "execution_count": 45,
   "id": "eec1bfa6-4a11-4f27-85dc-5cca3474a8bb",
   "metadata": {},
   "outputs": [],
   "source": [
    "F.<a> = GF(3)\n",
    "R.<x> = PolynomialRing(F)\n",
    "n = 5 \n",
    "f = x^n\n",
    "D = [1,x^4]\n",
    "g = abstract_gcd_cayley(f,R,D)\n",
    "cycles = nx.cycle_basis(g)"
   ]
  },
  {
   "cell_type": "code",
   "execution_count": 12,
   "id": "0c6582c0-3d81-4cba-b8a4-91999981277e",
   "metadata": {},
   "outputs": [],
   "source": [
    "F.<a> = GF(3)\n",
    "R.<x> = PolynomialRing(F)\n",
    "n = 5 \n",
    "f = x^n\n",
    "list_divisors = all_divisors(f)\n",
    "all_D = powerset(list_divisors)\n",
    "result = []\n",
    "for D in all_D:\n",
    "    g = abstract_gcd_cayley(f,R,D)\n",
    "    if existence_odd_cycle(g):\n",
    "        print(D)"
   ]
  },
  {
   "cell_type": "code",
   "execution_count": 14,
   "id": "83e7ccf8-fe01-4542-b92a-0356b85dcf48",
   "metadata": {},
   "outputs": [],
   "source": [
    "F.<a> = GF(3)\n",
    "R.<x> = PolynomialRing(F)\n",
    "n = 3\n",
    "f = (x^2+1)^n\n",
    "list_divisors = all_divisors(f)\n",
    "all_D = powerset(list_divisors)\n",
    "result = []\n",
    "for D in all_D:\n",
    "    g = abstract_gcd_cayley(f,R,D)\n",
    "    if existence_odd_cycle(g):\n",
    "        print(D)"
   ]
  },
  {
   "cell_type": "markdown",
   "id": "d10016de-cf04-4232-9a14-474e8a1c14d0",
   "metadata": {},
   "source": [
    "# Which integer could be an eigenvalue for $G_{f}(D)$"
   ]
  },
  {
   "cell_type": "code",
   "execution_count": 18,
   "id": "818377e3-3946-42c3-aa54-e642f28cd2a2",
   "metadata": {},
   "outputs": [
    {
     "data": {
      "text/plain": [
       "{-9, -7, -3, -1, 0, 2, 6, 8, 18, 20, 24, 26}"
      ]
     },
     "execution_count": 18,
     "metadata": {},
     "output_type": "execute_result"
    }
   ],
   "source": [
    "F.<a> = GF(3)\n",
    "R.<x> = PolynomialRing(F)\n",
    "n = 3\n",
    "f = x^n\n",
    "list_divisors = all_divisors(f)\n",
    "all_D = powerset(list_divisors)\n",
    "eig_set = set()\n",
    "result = []\n",
    "for D in all_D:\n",
    "    g = abstract_gcd_cayley(f,R,D)\n",
    "    spec = spectra_gcd_graph(f,R,D).keys()\n",
    "    for item in spec:\n",
    "        eig_set.add(item)\n",
    "eig_set"
   ]
  },
  {
   "cell_type": "code",
   "execution_count": 24,
   "id": "a27b8d6c-f267-42e6-9f2c-6420aa1526e5",
   "metadata": {},
   "outputs": [
    {
     "name": "stdout",
     "output_type": "stream",
     "text": [
      "[-81, -79, -75, -73, -63, -61, -57, -55, -27, -25, -21, -19, -9, -7, -3, -1, 0, 2, 6, 8, 18, 20, 24, 26, 54, 56, 60, 62, 72, 74, 78, 80, 162, 164, 168, 170, 180, 182, 186, 188, 216, 218, 222, 224, 234, 236, 240, 242]\n"
     ]
    }
   ],
   "source": [
    "F.<a> = GF(3)\n",
    "R.<x> = PolynomialRing(F)\n",
    "my_range = range(2,6)\n",
    "for n in my_range:\n",
    "    f = x^n\n",
    "    list_divisors = all_divisors(f)\n",
    "    all_D = powerset(list_divisors)\n",
    "    eig_set = set()\n",
    "    result = []\n",
    "    for D in all_D:\n",
    "        g = abstract_gcd_cayley(f,R,D)\n",
    "        spec = spectra_gcd_graph(f,R,D).keys()\n",
    "        for item in spec:\n",
    "            eig_set.add(item)\n",
    "print(sorted(eig_set))\n"
   ]
  },
  {
   "cell_type": "code",
   "execution_count": 6,
   "id": "d0644068-e86d-48fc-a55b-4a9361e23d4d",
   "metadata": {},
   "outputs": [
    {
     "name": "stdout",
     "output_type": "stream",
     "text": [
      "[-81, -73, -9, -1, 0, 8, 72, 80, 648, 656, 720, 728]\n"
     ]
    }
   ],
   "source": [
    "F.<a> = GF(3)\n",
    "R.<x> = PolynomialRing(F)\n",
    "eig_set = set()\n",
    "my_range = range(1,4)\n",
    "for n in my_range:\n",
    "    f = (x^2+1)^n\n",
    "    list_divisors = all_divisors(f)\n",
    "    all_D = powerset(list_divisors)\n",
    "    eig_set = set()\n",
    "    result = []\n",
    "    for D in all_D:\n",
    "        g = abstract_gcd_cayley(f,R,D)\n",
    "        spec = spectra_gcd_graph(f,R,D).keys()\n",
    "        for item in spec:\n",
    "            eig_set.add(item)\n",
    "print(sorted(eig_set))"
   ]
  },
  {
   "cell_type": "code",
   "execution_count": 7,
   "id": "b65e5b07-93ea-4ee3-a378-31d49a5e7943",
   "metadata": {},
   "outputs": [
    {
     "name": "stdout",
     "output_type": "stream",
     "text": [
      "[-25, -21, -5, -1, 0, 4, 20, 24, 100, 104, 120, 124]\n"
     ]
    }
   ],
   "source": [
    "F.<a> = GF(5)\n",
    "R.<x> = PolynomialRing(F)\n",
    "eig_set = set()\n",
    "my_range = range(1,4)\n",
    "for n in my_range:\n",
    "    f = x^n\n",
    "    list_divisors = all_divisors(f)\n",
    "    all_D = powerset(list_divisors)\n",
    "    eig_set = set()\n",
    "    result = []\n",
    "    for D in all_D:\n",
    "        g = abstract_gcd_cayley(f,R,D)\n",
    "        spec = spectra_gcd_graph(f,R,D).keys()\n",
    "        for item in spec:\n",
    "            eig_set.add(item)\n",
    "print(sorted(eig_set))"
   ]
  },
  {
   "cell_type": "code",
   "execution_count": 12,
   "id": "f26b8e6a-cb72-4d88-9925-658e98c6220d",
   "metadata": {},
   "outputs": [
    {
     "name": "stdout",
     "output_type": "stream",
     "text": [
      "[-49, -43, -7, -1, 0, 6, 42, 48, 294, 300, 336, 342]\n"
     ]
    }
   ],
   "source": [
    "F.<a> = GF(7)\n",
    "R.<x> = PolynomialRing(F)\n",
    "eig_set = set()\n",
    "my_range = range(1,4)\n",
    "for n in my_range:\n",
    "    f = x^n\n",
    "    list_divisors = all_divisors(f)\n",
    "    all_D = powerset(list_divisors)\n",
    "    eig_set = set()\n",
    "    result = []\n",
    "    for D in all_D:\n",
    "        g = abstract_gcd_cayley(f,R,D)\n",
    "        spec = spectra_gcd_graph(f,R,D).keys()\n",
    "        for item in spec:\n",
    "            eig_set.add(item)\n",
    "print(sorted(eig_set))"
   ]
  },
  {
   "cell_type": "code",
   "execution_count": 10,
   "id": "ba93f825-d39c-41e5-9177-76ab4b6c7774",
   "metadata": {},
   "outputs": [
    {
     "name": "stdout",
     "output_type": "stream",
     "text": [
      "[-8, -7, -6, -5, -4, -3, -2, -1, 0, 1, 2, 3, 4, 5, 6, 7, 8, 9, 10, 11, 12, 13, 14, 15]\n"
     ]
    }
   ],
   "source": [
    "F.<a> = GF(2)\n",
    "R.<x> = PolynomialRing(F)\n",
    "eig_set = set()\n",
    "my_range = range(1,5)\n",
    "for n in my_range:\n",
    "    f = x^n\n",
    "    list_divisors = all_divisors(f)\n",
    "    all_D = powerset(list_divisors)\n",
    "    eig_set = set()\n",
    "    result = []\n",
    "    for D in all_D:\n",
    "        g = abstract_gcd_cayley(f,R,D)\n",
    "        spec = spectra_gcd_graph(f,R,D).keys()\n",
    "        for item in spec:\n",
    "            eig_set.add(item)\n",
    "print(sorted(eig_set))"
   ]
  },
  {
   "cell_type": "code",
   "execution_count": 25,
   "id": "f97b5e8b-83c2-4380-9dca-bd3155f06506",
   "metadata": {},
   "outputs": [
    {
     "name": "stdout",
     "output_type": "stream",
     "text": [
      "[-31, -30, -26, -25, -6, -5, -1, 0, 1, 5, 6, 25, 26, 30, 31, 125, 126, 130, 131, 150, 151, 155, 156]\n",
      "[]\n",
      "[1]\n",
      "[0, 1, 0, 1]\n",
      "[1, 1, 0, 1]\n",
      "[0, 1]\n",
      "[1, 1]\n",
      "[0, 0, 1, 1]\n",
      "[1, 0, 1, 1]\n",
      "[0, 0, 1]\n",
      "[1, 0, 1]\n",
      "[0, 1, 1, 1]\n",
      "[1, 1, 1, 1]\n",
      "[0, 1, 1]\n",
      "[1, 1, 1]\n",
      "[1, 1, 1]\n",
      "[0, 1, 1]\n",
      "[1, 0, 1]\n",
      "[0, 0, 1]\n",
      "[1]\n",
      "[1, 1]\n",
      "[0, 1]\n",
      "[0, 0, 0, 1]\n",
      "[1, 0, 0, 1]\n"
     ]
    }
   ],
   "source": [
    "q = 5\n",
    "F.<a> = GF(q)\n",
    "R.<x> = PolynomialRing(F)\n",
    "eig_set = set()\n",
    "my_range = range(1,5)\n",
    "for n in my_range:\n",
    "    f = x^n\n",
    "    list_divisors = all_divisors(f)\n",
    "    all_D = powerset(list_divisors)\n",
    "    eig_set = set()\n",
    "    result = []\n",
    "    for D in all_D:\n",
    "        g = abstract_gcd_cayley(f,R,D)\n",
    "        spec = spectra_gcd_graph(f,R,D).keys()\n",
    "        for item in spec:\n",
    "            if item > 0:\n",
    "                eig_set.add(item//(q-1))\n",
    "            else:\n",
    "                eig_set.add((item+1)//(q-1))\n",
    "print(sorted(eig_set))\n",
    "for item in eig_set:\n",
    "    print(abs(item).digits(5))"
   ]
  },
  {
   "cell_type": "code",
   "execution_count": 26,
   "id": "436c4f5d-5e58-4a44-aeea-af3514dff874",
   "metadata": {},
   "outputs": [
    {
     "name": "stdout",
     "output_type": "stream",
     "text": [
      "[-13, -12, -10, -9, -4, -3, -1, 0, 1, 3, 4, 9, 10, 12, 13, 27, 28, 30, 31, 36, 37, 39, 40]\n",
      "[]\n",
      "[1]\n",
      "[0, 1]\n",
      "[1, 1]\n",
      "[0, 0, 1]\n",
      "[1, 0, 1]\n",
      "[0, 1, 1]\n",
      "[1, 1, 1]\n",
      "[0, 0, 0, 1]\n",
      "[1, 0, 0, 1]\n",
      "[0, 1, 0, 1]\n",
      "[1, 1, 0, 1]\n",
      "[0, 0, 1, 1]\n",
      "[1, 0, 1, 1]\n",
      "[0, 1, 1, 1]\n",
      "[1, 1, 1, 1]\n",
      "[1, 1, 1]\n",
      "[0, 1, 1]\n",
      "[1, 0, 1]\n",
      "[0, 0, 1]\n",
      "[1, 1]\n",
      "[0, 1]\n",
      "[1]\n"
     ]
    }
   ],
   "source": [
    "q = 3\n",
    "F.<a> = GF(q)\n",
    "R.<x> = PolynomialRing(F)\n",
    "eig_set = set()\n",
    "my_range = range(1,5)\n",
    "for n in my_range:\n",
    "    f = x^n\n",
    "    list_divisors = all_divisors(f)\n",
    "    all_D = powerset(list_divisors)\n",
    "    eig_set = set()\n",
    "    result = []\n",
    "    for D in all_D:\n",
    "        g = abstract_gcd_cayley(f,R,D)\n",
    "        spec = spectra_gcd_graph(f,R,D).keys()\n",
    "        for item in spec:\n",
    "            if item > 0:\n",
    "                eig_set.add(item//(q-1))\n",
    "            else:\n",
    "                eig_set.add((item+1)//(q-1))\n",
    "print(sorted(eig_set))\n",
    "for item in eig_set:\n",
    "    print(abs(item).digits(q))"
   ]
  },
  {
   "cell_type": "code",
   "execution_count": 27,
   "id": "4a0c1a55-4e71-4d94-8701-adecedc4b645",
   "metadata": {},
   "outputs": [
    {
     "name": "stdout",
     "output_type": "stream",
     "text": [
      "[-21, -20, -17, -16, -5, -4, -1, 0, 1, 4, 5, 16, 17, 20, 21, 64, 65, 68, 69, 80, 81, 84, 85]\n",
      "[]\n",
      "[1]\n",
      "[0, 1]\n",
      "[1, 1]\n",
      "[0, 0, 1]\n",
      "[1, 0, 1]\n",
      "[0, 1, 1]\n",
      "[1, 1, 1]\n",
      "[0, 0, 0, 1]\n",
      "[1, 0, 0, 1]\n",
      "[0, 1, 0, 1]\n",
      "[1, 1, 0, 1]\n",
      "[0, 0, 1, 1]\n",
      "[1, 0, 1, 1]\n",
      "[0, 1, 1, 1]\n",
      "[1, 1, 1, 1]\n",
      "[1, 1, 1]\n",
      "[0, 1, 1]\n",
      "[1, 0, 1]\n",
      "[0, 0, 1]\n",
      "[1, 1]\n",
      "[0, 1]\n",
      "[1]\n"
     ]
    }
   ],
   "source": [
    "q = 4\n",
    "F.<a> = GF(q)\n",
    "R.<x> = PolynomialRing(F)\n",
    "eig_set = set()\n",
    "my_range = range(1,5)\n",
    "for n in my_range:\n",
    "    f = x^n\n",
    "    list_divisors = all_divisors(f)\n",
    "    all_D = powerset(list_divisors)\n",
    "    eig_set = set()\n",
    "    result = []\n",
    "    for D in all_D:\n",
    "        g = abstract_gcd_cayley(f,R,D)\n",
    "        spec = spectra_gcd_graph(f,R,D).keys()\n",
    "        for item in spec:\n",
    "            if item > 0:\n",
    "                eig_set.add(item//(q-1))\n",
    "            else:\n",
    "                eig_set.add((item+1)//(q-1))\n",
    "print(sorted(eig_set))\n",
    "for item in eig_set:\n",
    "    print(abs(item).digits(q))"
   ]
  },
  {
   "cell_type": "code",
   "execution_count": 28,
   "id": "4aeb0f12-f93b-4173-888b-83771501f1e2",
   "metadata": {},
   "outputs": [
    {
     "name": "stdout",
     "output_type": "stream",
     "text": [
      "[-57, -56, -50, -49, -8, -7, -1, 0, 1, 7, 8, 49, 50, 56, 57, 343, 344, 350, 351, 392, 393, 399, 400]\n",
      "[]\n",
      "[1]\n",
      "[0, 1]\n",
      "[0, 0, 1, 1]\n",
      "[1, 0, 1, 1]\n",
      "[1, 1]\n",
      "[0, 1, 1, 1]\n",
      "[1, 1, 1, 1]\n",
      "[0, 0, 1]\n",
      "[1, 0, 1]\n",
      "[0, 1, 1]\n",
      "[1, 1, 1]\n",
      "[1, 1, 1]\n",
      "[0, 1, 1]\n",
      "[1, 0, 1]\n",
      "[0, 0, 1]\n",
      "[0, 0, 0, 1]\n",
      "[1, 0, 0, 1]\n",
      "[0, 1, 0, 1]\n",
      "[1, 1, 0, 1]\n",
      "[1, 1]\n",
      "[0, 1]\n",
      "[1]\n"
     ]
    }
   ],
   "source": [
    "q = 7\n",
    "F.<a> = GF(q)\n",
    "R.<x> = PolynomialRing(F)\n",
    "eig_set = set()\n",
    "my_range = range(1,5)\n",
    "for n in my_range:\n",
    "    f = x^n\n",
    "    list_divisors = all_divisors(f)\n",
    "    all_D = powerset(list_divisors)\n",
    "    eig_set = set()\n",
    "    result = []\n",
    "    for D in all_D:\n",
    "        g = abstract_gcd_cayley(f,R,D)\n",
    "        spec = spectra_gcd_graph(f,R,D).keys()\n",
    "        for item in spec:\n",
    "            if item > 0:\n",
    "                eig_set.add(item//(q-1))\n",
    "            else:\n",
    "                eig_set.add((item+1)//(q-1))\n",
    "print(sorted(eig_set))\n",
    "for item in eig_set:\n",
    "    print(abs(item).digits(q))"
   ]
  },
  {
   "cell_type": "code",
   "execution_count": null,
   "id": "e694ebc0-b9be-4baa-8947-08f8d7b218a6",
   "metadata": {},
   "outputs": [],
   "source": []
  }
 ],
 "metadata": {
  "kernelspec": {
   "display_name": "SageMath 10.4",
   "language": "sage",
   "name": "sagemath-10.4"
  },
  "language_info": {
   "codemirror_mode": {
    "name": "ipython",
    "version": 3
   },
   "file_extension": ".py",
   "mimetype": "text/x-python",
   "name": "python",
   "nbconvert_exporter": "python",
   "pygments_lexer": "ipython3",
   "version": "3.12.4"
  }
 },
 "nbformat": 4,
 "nbformat_minor": 5
}
